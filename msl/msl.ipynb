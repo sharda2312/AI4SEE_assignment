{
 "cells": [
  {
   "cell_type": "code",
   "execution_count": 154,
   "id": "19f1ab58-ce7a-45ce-90b0-7ad9c19ef498",
   "metadata": {},
   "outputs": [],
   "source": [
    "import pandas as pd\n",
    "import numpy as np\n",
    "import matplotlib.pyplot as plt"
   ]
  },
  {
   "cell_type": "code",
   "execution_count": 155,
   "id": "96995326-edde-4a31-a731-c8f2b14592f1",
   "metadata": {},
   "outputs": [],
   "source": [
    "dfx = pd.read_csv(\"msl_test.csv\")\n",
    "dfy = pd.read_csv(\"msl_test_label.csv\")"
   ]
  },
  {
   "cell_type": "code",
   "execution_count": 156,
   "id": "1839b113-a59d-46f6-ba68-f4f3c4d85a6e",
   "metadata": {},
   "outputs": [
    {
     "data": {
      "text/html": [
       "<div>\n",
       "<style scoped>\n",
       "    .dataframe tbody tr th:only-of-type {\n",
       "        vertical-align: middle;\n",
       "    }\n",
       "\n",
       "    .dataframe tbody tr th {\n",
       "        vertical-align: top;\n",
       "    }\n",
       "\n",
       "    .dataframe thead th {\n",
       "        text-align: right;\n",
       "    }\n",
       "</style>\n",
       "<table border=\"1\" class=\"dataframe\">\n",
       "  <thead>\n",
       "    <tr style=\"text-align: right;\">\n",
       "      <th></th>\n",
       "      <th>0</th>\n",
       "      <th>count</th>\n",
       "    </tr>\n",
       "  </thead>\n",
       "  <tbody>\n",
       "    <tr>\n",
       "      <th>0</th>\n",
       "      <td>0</td>\n",
       "      <td>65963</td>\n",
       "    </tr>\n",
       "    <tr>\n",
       "      <th>1</th>\n",
       "      <td>1</td>\n",
       "      <td>7766</td>\n",
       "    </tr>\n",
       "  </tbody>\n",
       "</table>\n",
       "</div>"
      ],
      "text/plain": [
       "   0  count\n",
       "0  0  65963\n",
       "1  1   7766"
      ]
     },
     "execution_count": 156,
     "metadata": {},
     "output_type": "execute_result"
    }
   ],
   "source": [
    "dfy['0'].value_counts().reset_index()"
   ]
  },
  {
   "cell_type": "code",
   "execution_count": 157,
   "id": "73c1b1f0-d089-4d72-8063-8d587b90bede",
   "metadata": {},
   "outputs": [
    {
     "data": {
      "text/html": [
       "<div>\n",
       "<style scoped>\n",
       "    .dataframe tbody tr th:only-of-type {\n",
       "        vertical-align: middle;\n",
       "    }\n",
       "\n",
       "    .dataframe tbody tr th {\n",
       "        vertical-align: top;\n",
       "    }\n",
       "\n",
       "    .dataframe thead th {\n",
       "        text-align: right;\n",
       "    }\n",
       "</style>\n",
       "<table border=\"1\" class=\"dataframe\">\n",
       "  <thead>\n",
       "    <tr style=\"text-align: right;\">\n",
       "      <th></th>\n",
       "      <th>0</th>\n",
       "      <th>1</th>\n",
       "      <th>2</th>\n",
       "      <th>3</th>\n",
       "      <th>4</th>\n",
       "      <th>5</th>\n",
       "      <th>6</th>\n",
       "      <th>7</th>\n",
       "      <th>8</th>\n",
       "      <th>9</th>\n",
       "      <th>...</th>\n",
       "      <th>45</th>\n",
       "      <th>46</th>\n",
       "      <th>47</th>\n",
       "      <th>48</th>\n",
       "      <th>49</th>\n",
       "      <th>50</th>\n",
       "      <th>51</th>\n",
       "      <th>52</th>\n",
       "      <th>53</th>\n",
       "      <th>54</th>\n",
       "    </tr>\n",
       "  </thead>\n",
       "  <tbody>\n",
       "    <tr>\n",
       "      <th>0</th>\n",
       "      <td>-0.946958</td>\n",
       "      <td>0</td>\n",
       "      <td>0</td>\n",
       "      <td>0</td>\n",
       "      <td>0</td>\n",
       "      <td>0</td>\n",
       "      <td>0</td>\n",
       "      <td>0</td>\n",
       "      <td>0</td>\n",
       "      <td>0</td>\n",
       "      <td>...</td>\n",
       "      <td>0</td>\n",
       "      <td>0</td>\n",
       "      <td>0</td>\n",
       "      <td>0</td>\n",
       "      <td>0</td>\n",
       "      <td>0</td>\n",
       "      <td>0</td>\n",
       "      <td>0</td>\n",
       "      <td>0</td>\n",
       "      <td>0</td>\n",
       "    </tr>\n",
       "    <tr>\n",
       "      <th>1</th>\n",
       "      <td>-0.942278</td>\n",
       "      <td>0</td>\n",
       "      <td>0</td>\n",
       "      <td>0</td>\n",
       "      <td>0</td>\n",
       "      <td>0</td>\n",
       "      <td>0</td>\n",
       "      <td>0</td>\n",
       "      <td>0</td>\n",
       "      <td>0</td>\n",
       "      <td>...</td>\n",
       "      <td>0</td>\n",
       "      <td>0</td>\n",
       "      <td>0</td>\n",
       "      <td>0</td>\n",
       "      <td>0</td>\n",
       "      <td>0</td>\n",
       "      <td>0</td>\n",
       "      <td>0</td>\n",
       "      <td>0</td>\n",
       "      <td>0</td>\n",
       "    </tr>\n",
       "    <tr>\n",
       "      <th>2</th>\n",
       "      <td>-0.936037</td>\n",
       "      <td>0</td>\n",
       "      <td>0</td>\n",
       "      <td>0</td>\n",
       "      <td>0</td>\n",
       "      <td>0</td>\n",
       "      <td>0</td>\n",
       "      <td>0</td>\n",
       "      <td>0</td>\n",
       "      <td>0</td>\n",
       "      <td>...</td>\n",
       "      <td>0</td>\n",
       "      <td>0</td>\n",
       "      <td>0</td>\n",
       "      <td>0</td>\n",
       "      <td>0</td>\n",
       "      <td>0</td>\n",
       "      <td>0</td>\n",
       "      <td>0</td>\n",
       "      <td>0</td>\n",
       "      <td>0</td>\n",
       "    </tr>\n",
       "    <tr>\n",
       "      <th>3</th>\n",
       "      <td>-0.923557</td>\n",
       "      <td>0</td>\n",
       "      <td>0</td>\n",
       "      <td>0</td>\n",
       "      <td>0</td>\n",
       "      <td>0</td>\n",
       "      <td>0</td>\n",
       "      <td>0</td>\n",
       "      <td>0</td>\n",
       "      <td>0</td>\n",
       "      <td>...</td>\n",
       "      <td>0</td>\n",
       "      <td>0</td>\n",
       "      <td>0</td>\n",
       "      <td>0</td>\n",
       "      <td>0</td>\n",
       "      <td>0</td>\n",
       "      <td>0</td>\n",
       "      <td>0</td>\n",
       "      <td>0</td>\n",
       "      <td>0</td>\n",
       "    </tr>\n",
       "    <tr>\n",
       "      <th>4</th>\n",
       "      <td>-0.917317</td>\n",
       "      <td>0</td>\n",
       "      <td>0</td>\n",
       "      <td>0</td>\n",
       "      <td>0</td>\n",
       "      <td>0</td>\n",
       "      <td>0</td>\n",
       "      <td>0</td>\n",
       "      <td>0</td>\n",
       "      <td>0</td>\n",
       "      <td>...</td>\n",
       "      <td>0</td>\n",
       "      <td>0</td>\n",
       "      <td>0</td>\n",
       "      <td>0</td>\n",
       "      <td>0</td>\n",
       "      <td>0</td>\n",
       "      <td>0</td>\n",
       "      <td>0</td>\n",
       "      <td>0</td>\n",
       "      <td>0</td>\n",
       "    </tr>\n",
       "    <tr>\n",
       "      <th>...</th>\n",
       "      <td>...</td>\n",
       "      <td>...</td>\n",
       "      <td>...</td>\n",
       "      <td>...</td>\n",
       "      <td>...</td>\n",
       "      <td>...</td>\n",
       "      <td>...</td>\n",
       "      <td>...</td>\n",
       "      <td>...</td>\n",
       "      <td>...</td>\n",
       "      <td>...</td>\n",
       "      <td>...</td>\n",
       "      <td>...</td>\n",
       "      <td>...</td>\n",
       "      <td>...</td>\n",
       "      <td>...</td>\n",
       "      <td>...</td>\n",
       "      <td>...</td>\n",
       "      <td>...</td>\n",
       "      <td>...</td>\n",
       "      <td>...</td>\n",
       "    </tr>\n",
       "    <tr>\n",
       "      <th>73724</th>\n",
       "      <td>0.499149</td>\n",
       "      <td>0</td>\n",
       "      <td>0</td>\n",
       "      <td>0</td>\n",
       "      <td>0</td>\n",
       "      <td>0</td>\n",
       "      <td>0</td>\n",
       "      <td>0</td>\n",
       "      <td>0</td>\n",
       "      <td>0</td>\n",
       "      <td>...</td>\n",
       "      <td>0</td>\n",
       "      <td>0</td>\n",
       "      <td>0</td>\n",
       "      <td>0</td>\n",
       "      <td>0</td>\n",
       "      <td>0</td>\n",
       "      <td>0</td>\n",
       "      <td>0</td>\n",
       "      <td>0</td>\n",
       "      <td>0</td>\n",
       "    </tr>\n",
       "    <tr>\n",
       "      <th>73725</th>\n",
       "      <td>0.501221</td>\n",
       "      <td>0</td>\n",
       "      <td>0</td>\n",
       "      <td>0</td>\n",
       "      <td>0</td>\n",
       "      <td>0</td>\n",
       "      <td>0</td>\n",
       "      <td>0</td>\n",
       "      <td>0</td>\n",
       "      <td>0</td>\n",
       "      <td>...</td>\n",
       "      <td>0</td>\n",
       "      <td>0</td>\n",
       "      <td>0</td>\n",
       "      <td>0</td>\n",
       "      <td>0</td>\n",
       "      <td>0</td>\n",
       "      <td>0</td>\n",
       "      <td>0</td>\n",
       "      <td>0</td>\n",
       "      <td>0</td>\n",
       "    </tr>\n",
       "    <tr>\n",
       "      <th>73726</th>\n",
       "      <td>0.501221</td>\n",
       "      <td>0</td>\n",
       "      <td>0</td>\n",
       "      <td>0</td>\n",
       "      <td>0</td>\n",
       "      <td>1</td>\n",
       "      <td>0</td>\n",
       "      <td>0</td>\n",
       "      <td>0</td>\n",
       "      <td>0</td>\n",
       "      <td>...</td>\n",
       "      <td>0</td>\n",
       "      <td>0</td>\n",
       "      <td>0</td>\n",
       "      <td>0</td>\n",
       "      <td>0</td>\n",
       "      <td>0</td>\n",
       "      <td>0</td>\n",
       "      <td>0</td>\n",
       "      <td>0</td>\n",
       "      <td>0</td>\n",
       "    </tr>\n",
       "    <tr>\n",
       "      <th>73727</th>\n",
       "      <td>0.501221</td>\n",
       "      <td>0</td>\n",
       "      <td>0</td>\n",
       "      <td>0</td>\n",
       "      <td>0</td>\n",
       "      <td>1</td>\n",
       "      <td>0</td>\n",
       "      <td>0</td>\n",
       "      <td>0</td>\n",
       "      <td>0</td>\n",
       "      <td>...</td>\n",
       "      <td>0</td>\n",
       "      <td>0</td>\n",
       "      <td>0</td>\n",
       "      <td>0</td>\n",
       "      <td>0</td>\n",
       "      <td>0</td>\n",
       "      <td>0</td>\n",
       "      <td>0</td>\n",
       "      <td>0</td>\n",
       "      <td>0</td>\n",
       "    </tr>\n",
       "    <tr>\n",
       "      <th>73728</th>\n",
       "      <td>-0.954212</td>\n",
       "      <td>0</td>\n",
       "      <td>0</td>\n",
       "      <td>0</td>\n",
       "      <td>0</td>\n",
       "      <td>0</td>\n",
       "      <td>0</td>\n",
       "      <td>0</td>\n",
       "      <td>0</td>\n",
       "      <td>0</td>\n",
       "      <td>...</td>\n",
       "      <td>0</td>\n",
       "      <td>0</td>\n",
       "      <td>0</td>\n",
       "      <td>0</td>\n",
       "      <td>0</td>\n",
       "      <td>0</td>\n",
       "      <td>0</td>\n",
       "      <td>0</td>\n",
       "      <td>0</td>\n",
       "      <td>0</td>\n",
       "    </tr>\n",
       "  </tbody>\n",
       "</table>\n",
       "<p>73729 rows × 55 columns</p>\n",
       "</div>"
      ],
      "text/plain": [
       "              0  1  2  3  4  5  6  7  8  9  ...  45  46  47  48  49  50  51  \\\n",
       "0     -0.946958  0  0  0  0  0  0  0  0  0  ...   0   0   0   0   0   0   0   \n",
       "1     -0.942278  0  0  0  0  0  0  0  0  0  ...   0   0   0   0   0   0   0   \n",
       "2     -0.936037  0  0  0  0  0  0  0  0  0  ...   0   0   0   0   0   0   0   \n",
       "3     -0.923557  0  0  0  0  0  0  0  0  0  ...   0   0   0   0   0   0   0   \n",
       "4     -0.917317  0  0  0  0  0  0  0  0  0  ...   0   0   0   0   0   0   0   \n",
       "...         ... .. .. .. .. .. .. .. .. ..  ...  ..  ..  ..  ..  ..  ..  ..   \n",
       "73724  0.499149  0  0  0  0  0  0  0  0  0  ...   0   0   0   0   0   0   0   \n",
       "73725  0.501221  0  0  0  0  0  0  0  0  0  ...   0   0   0   0   0   0   0   \n",
       "73726  0.501221  0  0  0  0  1  0  0  0  0  ...   0   0   0   0   0   0   0   \n",
       "73727  0.501221  0  0  0  0  1  0  0  0  0  ...   0   0   0   0   0   0   0   \n",
       "73728 -0.954212  0  0  0  0  0  0  0  0  0  ...   0   0   0   0   0   0   0   \n",
       "\n",
       "       52  53  54  \n",
       "0       0   0   0  \n",
       "1       0   0   0  \n",
       "2       0   0   0  \n",
       "3       0   0   0  \n",
       "4       0   0   0  \n",
       "...    ..  ..  ..  \n",
       "73724   0   0   0  \n",
       "73725   0   0   0  \n",
       "73726   0   0   0  \n",
       "73727   0   0   0  \n",
       "73728   0   0   0  \n",
       "\n",
       "[73729 rows x 55 columns]"
      ]
     },
     "execution_count": 157,
     "metadata": {},
     "output_type": "execute_result"
    }
   ],
   "source": [
    "dfx"
   ]
  },
  {
   "cell_type": "code",
   "execution_count": 158,
   "id": "a67e4719-3355-468a-a209-45bd1a2bd25b",
   "metadata": {},
   "outputs": [
    {
     "data": {
      "text/plain": [
       "Index(['1', '2', '3', '4', '8', '10', '18', '21', '22', '24', '26', '30', '32',\n",
       "       '34', '36', '38', '40', '42', '44', '50', '52'],\n",
       "      dtype='object')"
      ]
     },
     "execution_count": 158,
     "metadata": {},
     "output_type": "execute_result"
    }
   ],
   "source": [
    "zero_columns = dfx.columns[dfx.eq(0).all()]\n",
    "zero_columns"
   ]
  },
  {
   "cell_type": "code",
   "execution_count": 159,
   "id": "5a50b5c5-0cd2-4d42-a58c-7615e805f3c7",
   "metadata": {},
   "outputs": [
    {
     "data": {
      "text/plain": [
       "False"
      ]
     },
     "execution_count": 159,
     "metadata": {},
     "output_type": "execute_result"
    }
   ],
   "source": [
    "dfx.isna().any().any()"
   ]
  },
  {
   "cell_type": "code",
   "execution_count": 160,
   "id": "ea36f650-f6b7-4a5e-bf2d-12fe888d4303",
   "metadata": {},
   "outputs": [],
   "source": [
    "dfx.reset_index(inplace=True)"
   ]
  },
  {
   "cell_type": "code",
   "execution_count": 161,
   "id": "d0532423-6b62-4310-bb15-76590144368a",
   "metadata": {},
   "outputs": [],
   "source": [
    "dfx.drop(['index','1', '2', '3', '4', '8', '10', '18', '21', '22', '24', '26', '30', '32',\n",
    "       '34', '36', '38', '40', '42', '44', '50', '52'], axis=1, inplace = True)"
   ]
  },
  {
   "cell_type": "code",
   "execution_count": 162,
   "id": "065a5b0d-a162-4a3a-91e6-ed81e175d58f",
   "metadata": {},
   "outputs": [
    {
     "data": {
      "text/html": [
       "<div>\n",
       "<style scoped>\n",
       "    .dataframe tbody tr th:only-of-type {\n",
       "        vertical-align: middle;\n",
       "    }\n",
       "\n",
       "    .dataframe tbody tr th {\n",
       "        vertical-align: top;\n",
       "    }\n",
       "\n",
       "    .dataframe thead th {\n",
       "        text-align: right;\n",
       "    }\n",
       "</style>\n",
       "<table border=\"1\" class=\"dataframe\">\n",
       "  <thead>\n",
       "    <tr style=\"text-align: right;\">\n",
       "      <th></th>\n",
       "      <th>51</th>\n",
       "      <th>count</th>\n",
       "    </tr>\n",
       "  </thead>\n",
       "  <tbody>\n",
       "    <tr>\n",
       "      <th>0</th>\n",
       "      <td>0</td>\n",
       "      <td>73726</td>\n",
       "    </tr>\n",
       "    <tr>\n",
       "      <th>1</th>\n",
       "      <td>1</td>\n",
       "      <td>3</td>\n",
       "    </tr>\n",
       "  </tbody>\n",
       "</table>\n",
       "</div>"
      ],
      "text/plain": [
       "   51  count\n",
       "0   0  73726\n",
       "1   1      3"
      ]
     },
     "execution_count": 162,
     "metadata": {},
     "output_type": "execute_result"
    }
   ],
   "source": [
    "dfx['51'].value_counts().reset_index()"
   ]
  },
  {
   "cell_type": "code",
   "execution_count": 163,
   "id": "fd268fb1-dc94-4038-aa09-d77d9f505eb6",
   "metadata": {},
   "outputs": [
    {
     "name": "stdout",
     "output_type": "stream",
     "text": [
      "[              0  count\n",
      "0     -1.000000  14994\n",
      "1     -0.999602   1840\n",
      "2      1.000000   1521\n",
      "3     -0.964286   1304\n",
      "4     -0.892857   1181\n",
      "...         ...    ...\n",
      "23395  0.485331      1\n",
      "23396  0.473866      1\n",
      "23397  0.465248      1\n",
      "23398  0.425606      1\n",
      "23399 -0.954212      1\n",
      "\n",
      "[23400 rows x 2 columns],    5  count\n",
      "0  0  67996\n",
      "1  1   5733,    6  count\n",
      "0  0  73689\n",
      "1  1     40,    7  count\n",
      "0  0  73710\n",
      "1  1     19,    9  count\n",
      "0  0  73722\n",
      "1  1      7,    11  count\n",
      "0   0  71548\n",
      "1   1   2181,    12  count\n",
      "0   0  72693\n",
      "1   1   1036,    13  count\n",
      "0   0  72748\n",
      "1   1    981,    14  count\n",
      "0   0  72546\n",
      "1   1   1183,    15  count\n",
      "0   0  73682\n",
      "1   1     47,    16  count\n",
      "0   0  73668\n",
      "1   1     61,    17  count\n",
      "0   0  73726\n",
      "1   1      3,    19  count\n",
      "0   0  73444\n",
      "1   1    285,    20  count\n",
      "0   0  73693\n",
      "1   1     36,    23  count\n",
      "0   0  73725\n",
      "1   1      4,    25  count\n",
      "0   0  73726\n",
      "1   1      3,    27  count\n",
      "0   0  72663\n",
      "1   1   1066,    28  count\n",
      "0   0  73727\n",
      "1   1      2,    29  count\n",
      "0   0  73716\n",
      "1   1     13,    31  count\n",
      "0   0  73679\n",
      "1   1     50,    33  count\n",
      "0   0  71856\n",
      "1   1   1873,    35  count\n",
      "0   0  73332\n",
      "1   1    397,    37  count\n",
      "0   0  73718\n",
      "1   1     11,    39  count\n",
      "0   0  73450\n",
      "1   1    279,    41  count\n",
      "0   0  73663\n",
      "1   1     66,    43  count\n",
      "0   0  73606\n",
      "1   1    123,    45  count\n",
      "0   0  73714\n",
      "1   1     15,    46  count\n",
      "0   0  73728\n",
      "1   1      1,    47  count\n",
      "0   0  72926\n",
      "1   1    803,    48  count\n",
      "0   0  73719\n",
      "1   1     10,    49  count\n",
      "0   0  73119\n",
      "1   1    610,    51  count\n",
      "0   0  73726\n",
      "1   1      3,    53  count\n",
      "0   0  73618\n",
      "1   1    111,    54  count\n",
      "0   0  73602\n",
      "1   1    127]\n"
     ]
    }
   ],
   "source": [
    "k  = []\n",
    "for i in dfx.columns:\n",
    "    k.append(dfx[i].value_counts().reset_index())\n",
    "print(k)"
   ]
  },
  {
   "cell_type": "code",
   "execution_count": 164,
   "id": "4d704ab1-ecc0-4f44-8fb4-0bb70b7c0464",
   "metadata": {},
   "outputs": [],
   "source": [
    "dfx.drop(['9','17','23','25','28','46','51'],axis=1,inplace=True)"
   ]
  },
  {
   "cell_type": "code",
   "execution_count": 165,
   "id": "5a7b021c-938e-4fae-9c18-4a46e4873f58",
   "metadata": {},
   "outputs": [
    {
     "data": {
      "text/plain": [
       "Index(['0', '5', '6', '7', '11', '12', '13', '14', '15', '16', '19', '20',\n",
       "       '27', '29', '31', '33', '35', '37', '39', '41', '43', '45', '47', '48',\n",
       "       '49', '53', '54'],\n",
       "      dtype='object')"
      ]
     },
     "execution_count": 165,
     "metadata": {},
     "output_type": "execute_result"
    }
   ],
   "source": [
    "dfx.columns"
   ]
  },
  {
   "cell_type": "code",
   "execution_count": 166,
   "id": "ef927774-f108-4765-86ec-a1cdd4bb8af5",
   "metadata": {},
   "outputs": [],
   "source": [
    "mean0 = []\n",
    "mean1 = []\n",
    "for x in dfx.columns:\n",
    "    mean0.append(np.mean(dfx[str(x)][dfy[\"0\"] == 0]))\n",
    "    mean1.append(np.mean(dfx[str(x)][dfy[\"0\"] == 1]))"
   ]
  },
  {
   "cell_type": "code",
   "execution_count": 167,
   "id": "49345e33-ddd1-40ce-9af7-ba7b6b7f1ab3",
   "metadata": {},
   "outputs": [],
   "source": [
    "median0 = []\n",
    "median1 = []\n",
    "for x in dfx.columns:\n",
    "    median0.append(np.median(dfx[str(x)][dfy[\"0\"] == 0]))\n",
    "    median1.append(np.median(dfx[str(x)][dfy[\"0\"] == 1]))"
   ]
  },
  {
   "cell_type": "code",
   "execution_count": 168,
   "id": "40a23e22-83d9-41b4-8b6d-1d0be0b6fb47",
   "metadata": {},
   "outputs": [],
   "source": [
    "std0 = []\n",
    "std1 = []\n",
    "for x in dfx.columns:\n",
    "    std0.append(np.std(dfx[str(x)][dfy[\"0\"] == 0]))\n",
    "    std1.append(np.std(dfx[str(x)][dfy[\"0\"] == 1]))"
   ]
  },
  {
   "cell_type": "code",
   "execution_count": 169,
   "id": "6ecfb8e7-ae66-43f4-9715-71d4ffd6c396",
   "metadata": {},
   "outputs": [],
   "source": [
    "def calculate_per_change(old_value, new_value):\n",
    "    percentage_change = ((new_value - old_value) / old_value) * 100\n",
    "    return percentage_change"
   ]
  },
  {
   "cell_type": "code",
   "execution_count": 170,
   "id": "bc5cde1c-99db-4420-bb3a-5f5629e46185",
   "metadata": {},
   "outputs": [],
   "source": [
    "per_mean01 = []\n",
    "for i in range(len(std0)):\n",
    "    per_mean01.append(calculate_per_change(mean0[i],mean1[i]))"
   ]
  },
  {
   "cell_type": "code",
   "execution_count": 171,
   "id": "2830f0e7-0191-4b7d-ba31-399d8d2e957b",
   "metadata": {},
   "outputs": [],
   "source": [
    "per_mean10 = []\n",
    "for i in range(len(std0)):\n",
    "    per_mean10.append(calculate_per_change(mean1[i],mean0[i]))"
   ]
  },
  {
   "cell_type": "code",
   "execution_count": 172,
   "id": "e40fabeb-f4c0-40e8-9023-f7660216bd36",
   "metadata": {},
   "outputs": [],
   "source": [
    "per_std01 = []\n",
    "for i in range(len(std0)):\n",
    "    per_std01.append(calculate_per_change(std0[i],std1[i]))"
   ]
  },
  {
   "cell_type": "code",
   "execution_count": 173,
   "id": "58a9d7f5-ebbe-48a9-9351-26d4fdaeb393",
   "metadata": {},
   "outputs": [],
   "source": [
    "per_std10 = []\n",
    "for i in range(len(std0)):\n",
    "    per_std10.append(calculate_per_change(std1[i],std0[i]))"
   ]
  },
  {
   "cell_type": "code",
   "execution_count": 174,
   "id": "1d845d40-300e-41ea-beb9-350c5eb978a7",
   "metadata": {},
   "outputs": [
    {
     "name": "stderr",
     "output_type": "stream",
     "text": [
      "C:\\Users\\Sharda Prasad Maurya.LAPTOP-4MVRVONI\\AppData\\Local\\Temp\\ipykernel_14504\\3838705196.py:2: RuntimeWarning: invalid value encountered in double_scalars\n",
      "  percentage_change = ((new_value - old_value) / old_value) * 100\n"
     ]
    }
   ],
   "source": [
    "per_median01 = []\n",
    "for i in range(len(std0)):\n",
    "    per_median01.append(calculate_per_change(median0[i],median1[i]))"
   ]
  },
  {
   "cell_type": "code",
   "execution_count": 175,
   "id": "cd045e17-ba2a-430a-80c4-63619393b726",
   "metadata": {},
   "outputs": [
    {
     "name": "stderr",
     "output_type": "stream",
     "text": [
      "C:\\Users\\Sharda Prasad Maurya.LAPTOP-4MVRVONI\\AppData\\Local\\Temp\\ipykernel_14504\\3838705196.py:2: RuntimeWarning: invalid value encountered in double_scalars\n",
      "  percentage_change = ((new_value - old_value) / old_value) * 100\n"
     ]
    }
   ],
   "source": [
    "per_median10 = []\n",
    "for i in range(len(std0)):\n",
    "    per_median10.append(calculate_per_change(median1[i],median0[i]))"
   ]
  },
  {
   "cell_type": "markdown",
   "id": "1d1949da-43bf-4a44-8187-dc850239f52c",
   "metadata": {},
   "source": [
    "### percentage change in mean, median, mode\n",
    "printing the features which are most affecting the anomaly"
   ]
  },
  {
   "cell_type": "code",
   "execution_count": 176,
   "id": "ecbd3387-2af7-423c-94b1-36bce72fe1dc",
   "metadata": {},
   "outputs": [
    {
     "name": "stdout",
     "output_type": "stream",
     "text": [
      "['7', '15', '16', '19', '33', '35', '37', '41', '45', '48']\n",
      "['0', '15', '16', '37', '41', '45']\n",
      "[]\n",
      "['6', '13', '14', '31', '39', '53']\n",
      "['13', '14', '31', '39']\n",
      "[]\n"
     ]
    }
   ],
   "source": [
    "per_mean01_features = []\n",
    "per_std01_features = []\n",
    "per_median01_features = []\n",
    "per_mean10_features = []\n",
    "per_std10_features = []\n",
    "per_median10_features = []\n",
    "for i in range(len(std0)):\n",
    "    if (per_mean01[i]>=50):\n",
    "        x= per_mean01[i]\n",
    "        per_mean01_features.append(dfx.columns[i])\n",
    "    if (per_std01[i]>=50):\n",
    "        x= per_std01[i]\n",
    "        per_std01_features.append(dfx.columns[i])\n",
    "\n",
    "    if (per_median01[i]>=50):\n",
    "        x= per_median01[i]\n",
    "        per_median01_features.append(dfx.columns[i])\n",
    "\n",
    "    if (per_mean10[i]>=50):\n",
    "        x= per_mean10[i]\n",
    "        per_mean10_features.append(dfx.columns[i])\n",
    "    if (per_std10[i]>=50):\n",
    "        x= per_std10[i]\n",
    "        per_std10_features.append(dfx.columns[i])\n",
    "    if (per_median10[i]>=50):\n",
    "        x= per_median10[i]\n",
    "        per_median10_features.append(dfx.columns[i])\n",
    "\n",
    "print(per_mean01_features)\n",
    "print(per_std01_features)\n",
    "print(per_median01_features)\n",
    "print(per_mean10_features)\n",
    "print(per_std10_features)\n",
    "print(per_median10_features)"
   ]
  },
  {
   "cell_type": "markdown",
   "id": "1bc1adb7-2fc1-43ae-a12f-255a551a04fd",
   "metadata": {},
   "source": [
    "## Point-Biserial Correlation"
   ]
  },
  {
   "cell_type": "code",
   "execution_count": 177,
   "id": "bc6911ab-eaa2-442c-a357-b02ff2618194",
   "metadata": {},
   "outputs": [
    {
     "name": "stdout",
     "output_type": "stream",
     "text": [
      "Variable: 0, Point-Biserial Correlation: 0.14327607436750622\n",
      "Variable: 33, Point-Biserial Correlation: 0.04007327698415802\n",
      "Variable: 14, Point-Biserial Correlation: -0.03994817207840321\n",
      "Variable: 13, Point-Biserial Correlation: -0.03791684212913098\n",
      "Variable: 15, Point-Biserial Correlation: 0.02809434486236589\n",
      "Variable: 37, Point-Biserial Correlation: 0.024748463246033317\n",
      "Variable: 5, Point-Biserial Correlation: 0.0216356642661402\n",
      "Variable: 11, Point-Biserial Correlation: 0.020932674969347715\n",
      "Variable: 16, Point-Biserial Correlation: 0.020860152512357677\n",
      "Variable: 39, Point-Biserial Correlation: -0.015390484837671786\n",
      "Variable: 41, Point-Biserial Correlation: 0.01484489407216931\n",
      "Variable: 35, Point-Biserial Correlation: 0.013996616468430333\n",
      "Variable: 19, Point-Biserial Correlation: 0.0135143698352784\n",
      "Variable: 12, Point-Biserial Correlation: 0.009713296723287398\n",
      "Variable: 47, Point-Biserial Correlation: -0.00876121299170715\n",
      "Variable: 27, Point-Biserial Correlation: 0.008408026931373287\n",
      "Variable: 45, Point-Biserial Correlation: 0.007497019286753678\n",
      "Variable: 31, Point-Biserial Correlation: -0.005544041451841987\n",
      "Variable: 53, Point-Biserial Correlation: -0.005346592062148212\n",
      "Variable: 6, Point-Biserial Correlation: -0.004199446297049798\n",
      "Variable: 48, Point-Biserial Correlation: 0.0035917356731649396\n",
      "Variable: 43, Point-Biserial Correlation: 0.003295746601301082\n",
      "Variable: 7, Point-Biserial Correlation: 0.0027490560606476563\n",
      "Variable: 20, Point-Biserial Correlation: 0.0024160911523000424\n",
      "Variable: 29, Point-Biserial Correlation: -0.0012289387616390283\n",
      "Variable: 49, Point-Biserial Correlation: 0.0008524501137627434\n",
      "Variable: 54, Point-Biserial Correlation: -0.00040181610399426734\n"
     ]
    }
   ],
   "source": [
    "from scipy.stats import pointbiserialr\n",
    "\n",
    "correlation_coefficients = {}\n",
    "\n",
    "for column in dfx.columns:\n",
    "    # Calculate the point-biserial correlation between the input variable and the anomaly indicator\n",
    "    correlation, p_value = pointbiserialr(dfx[column], dfy['0'])\n",
    "    \n",
    "    correlation_coefficients[column] = correlation\n",
    "\n",
    "sorted_correlation_coefficients = sorted(correlation_coefficients.items(), key=lambda x: abs(x[1]), reverse=True)\n",
    "\n",
    "for variable, coefficient in sorted_correlation_coefficients:\n",
    "    print(f\"Variable: {variable}, Point-Biserial Correlation: {coefficient}\")"
   ]
  },
  {
   "cell_type": "markdown",
   "id": "f21e1f23-af54-47fe-82b6-5b720539d851",
   "metadata": {},
   "source": [
    "### variables which are the root cause for the anomaly\n",
    "\n",
    "on performing EDA on the data set:  \n",
    "the variable which are the root cause of the anomaly are: **0, 33, 14, 13, 15, 37, 16, 39, 41, 35**  \n",
    "some other also are there: **11, 19, 45, 31**"
   ]
  }
 ],
 "metadata": {
  "kernelspec": {
   "display_name": "Python 3 (ipykernel)",
   "language": "python",
   "name": "python3"
  },
  "language_info": {
   "codemirror_mode": {
    "name": "ipython",
    "version": 3
   },
   "file_extension": ".py",
   "mimetype": "text/x-python",
   "name": "python",
   "nbconvert_exporter": "python",
   "pygments_lexer": "ipython3",
   "version": "3.10.7"
  }
 },
 "nbformat": 4,
 "nbformat_minor": 5
}
