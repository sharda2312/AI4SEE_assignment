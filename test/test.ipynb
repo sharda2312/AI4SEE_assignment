{
 "cells": [
  {
   "cell_type": "code",
   "execution_count": 25,
   "id": "cee54e8f-20d9-453a-8e8a-fcb21fb38623",
   "metadata": {},
   "outputs": [],
   "source": [
    "import pandas as pd\n",
    "import numpy as np\n",
    "import matplotlib.pyplot as plt"
   ]
  },
  {
   "cell_type": "code",
   "execution_count": 26,
   "id": "b19243f1-4b34-4675-a071-44351b21e8ce",
   "metadata": {},
   "outputs": [],
   "source": [
    "dfx = pd.read_csv(\"test.csv\")\n",
    "dfy = pd.read_csv(\"test_label.csv\")"
   ]
  },
  {
   "cell_type": "code",
   "execution_count": 27,
   "id": "c8d44a93-3cf6-4edb-bc1b-d1dbc2d299ea",
   "metadata": {},
   "outputs": [
    {
     "data": {
      "text/html": [
       "<div>\n",
       "<style scoped>\n",
       "    .dataframe tbody tr th:only-of-type {\n",
       "        vertical-align: middle;\n",
       "    }\n",
       "\n",
       "    .dataframe tbody tr th {\n",
       "        vertical-align: top;\n",
       "    }\n",
       "\n",
       "    .dataframe thead th {\n",
       "        text-align: right;\n",
       "    }\n",
       "</style>\n",
       "<table border=\"1\" class=\"dataframe\">\n",
       "  <thead>\n",
       "    <tr style=\"text-align: right;\">\n",
       "      <th></th>\n",
       "      <th>0</th>\n",
       "      <th>1</th>\n",
       "      <th>2</th>\n",
       "      <th>3</th>\n",
       "      <th>4</th>\n",
       "      <th>5</th>\n",
       "      <th>6</th>\n",
       "      <th>7</th>\n",
       "      <th>8</th>\n",
       "      <th>9</th>\n",
       "      <th>...</th>\n",
       "      <th>28</th>\n",
       "      <th>29</th>\n",
       "      <th>30</th>\n",
       "      <th>31</th>\n",
       "      <th>32</th>\n",
       "      <th>33</th>\n",
       "      <th>34</th>\n",
       "      <th>35</th>\n",
       "      <th>36</th>\n",
       "      <th>37</th>\n",
       "    </tr>\n",
       "  </thead>\n",
       "  <tbody>\n",
       "    <tr>\n",
       "      <th>0</th>\n",
       "      <td>0.000000</td>\n",
       "      <td>0.000340</td>\n",
       "      <td>0.000432</td>\n",
       "      <td>0.000000</td>\n",
       "      <td>0.0</td>\n",
       "      <td>0.694290</td>\n",
       "      <td>0.038316</td>\n",
       "      <td>0.0</td>\n",
       "      <td>0.000000</td>\n",
       "      <td>0.0</td>\n",
       "      <td>...</td>\n",
       "      <td>0.0</td>\n",
       "      <td>0.50</td>\n",
       "      <td>0.036442</td>\n",
       "      <td>0.000000</td>\n",
       "      <td>0.0</td>\n",
       "      <td>0.023256</td>\n",
       "      <td>0.055147</td>\n",
       "      <td>0.055147</td>\n",
       "      <td>0.0</td>\n",
       "      <td>0.0</td>\n",
       "    </tr>\n",
       "    <tr>\n",
       "      <th>1</th>\n",
       "      <td>0.000000</td>\n",
       "      <td>0.000510</td>\n",
       "      <td>0.000576</td>\n",
       "      <td>0.000000</td>\n",
       "      <td>0.0</td>\n",
       "      <td>0.694702</td>\n",
       "      <td>0.038856</td>\n",
       "      <td>0.0</td>\n",
       "      <td>0.427536</td>\n",
       "      <td>0.0</td>\n",
       "      <td>...</td>\n",
       "      <td>0.0</td>\n",
       "      <td>0.25</td>\n",
       "      <td>0.025862</td>\n",
       "      <td>0.000000</td>\n",
       "      <td>0.0</td>\n",
       "      <td>0.028623</td>\n",
       "      <td>0.040441</td>\n",
       "      <td>0.040441</td>\n",
       "      <td>0.0</td>\n",
       "      <td>0.0</td>\n",
       "    </tr>\n",
       "    <tr>\n",
       "      <th>2</th>\n",
       "      <td>0.000000</td>\n",
       "      <td>0.000510</td>\n",
       "      <td>0.000576</td>\n",
       "      <td>0.000000</td>\n",
       "      <td>0.0</td>\n",
       "      <td>0.694908</td>\n",
       "      <td>0.038856</td>\n",
       "      <td>0.0</td>\n",
       "      <td>0.000000</td>\n",
       "      <td>0.0</td>\n",
       "      <td>...</td>\n",
       "      <td>0.0</td>\n",
       "      <td>0.25</td>\n",
       "      <td>0.307994</td>\n",
       "      <td>0.013699</td>\n",
       "      <td>0.0</td>\n",
       "      <td>0.026834</td>\n",
       "      <td>0.183824</td>\n",
       "      <td>0.180147</td>\n",
       "      <td>0.0</td>\n",
       "      <td>0.0</td>\n",
       "    </tr>\n",
       "    <tr>\n",
       "      <th>3</th>\n",
       "      <td>0.000000</td>\n",
       "      <td>0.000170</td>\n",
       "      <td>0.000432</td>\n",
       "      <td>0.000000</td>\n",
       "      <td>0.0</td>\n",
       "      <td>0.695114</td>\n",
       "      <td>0.038856</td>\n",
       "      <td>0.0</td>\n",
       "      <td>0.007246</td>\n",
       "      <td>0.0</td>\n",
       "      <td>...</td>\n",
       "      <td>0.0</td>\n",
       "      <td>0.25</td>\n",
       "      <td>0.026254</td>\n",
       "      <td>0.000000</td>\n",
       "      <td>0.0</td>\n",
       "      <td>0.030411</td>\n",
       "      <td>0.047794</td>\n",
       "      <td>0.047794</td>\n",
       "      <td>0.0</td>\n",
       "      <td>0.0</td>\n",
       "    </tr>\n",
       "    <tr>\n",
       "      <th>4</th>\n",
       "      <td>0.000000</td>\n",
       "      <td>0.000935</td>\n",
       "      <td>0.000720</td>\n",
       "      <td>0.000336</td>\n",
       "      <td>0.0</td>\n",
       "      <td>0.695733</td>\n",
       "      <td>0.039935</td>\n",
       "      <td>0.0</td>\n",
       "      <td>0.000000</td>\n",
       "      <td>0.0</td>\n",
       "      <td>...</td>\n",
       "      <td>0.0</td>\n",
       "      <td>0.25</td>\n",
       "      <td>0.014107</td>\n",
       "      <td>0.000000</td>\n",
       "      <td>0.0</td>\n",
       "      <td>0.028623</td>\n",
       "      <td>0.033088</td>\n",
       "      <td>0.029412</td>\n",
       "      <td>0.0</td>\n",
       "      <td>0.0</td>\n",
       "    </tr>\n",
       "    <tr>\n",
       "      <th>...</th>\n",
       "      <td>...</td>\n",
       "      <td>...</td>\n",
       "      <td>...</td>\n",
       "      <td>...</td>\n",
       "      <td>...</td>\n",
       "      <td>...</td>\n",
       "      <td>...</td>\n",
       "      <td>...</td>\n",
       "      <td>...</td>\n",
       "      <td>...</td>\n",
       "      <td>...</td>\n",
       "      <td>...</td>\n",
       "      <td>...</td>\n",
       "      <td>...</td>\n",
       "      <td>...</td>\n",
       "      <td>...</td>\n",
       "      <td>...</td>\n",
       "      <td>...</td>\n",
       "      <td>...</td>\n",
       "      <td>...</td>\n",
       "      <td>...</td>\n",
       "    </tr>\n",
       "    <tr>\n",
       "      <th>69996</th>\n",
       "      <td>0.062500</td>\n",
       "      <td>0.047847</td>\n",
       "      <td>0.041333</td>\n",
       "      <td>0.048338</td>\n",
       "      <td>0.0</td>\n",
       "      <td>0.209877</td>\n",
       "      <td>0.266667</td>\n",
       "      <td>0.0</td>\n",
       "      <td>0.005937</td>\n",
       "      <td>0.0</td>\n",
       "      <td>...</td>\n",
       "      <td>0.0</td>\n",
       "      <td>0.00</td>\n",
       "      <td>0.035395</td>\n",
       "      <td>0.001223</td>\n",
       "      <td>0.0</td>\n",
       "      <td>0.027778</td>\n",
       "      <td>0.671429</td>\n",
       "      <td>0.681159</td>\n",
       "      <td>0.0</td>\n",
       "      <td>0.0</td>\n",
       "    </tr>\n",
       "    <tr>\n",
       "      <th>69997</th>\n",
       "      <td>0.052083</td>\n",
       "      <td>0.031100</td>\n",
       "      <td>0.036000</td>\n",
       "      <td>0.046828</td>\n",
       "      <td>0.0</td>\n",
       "      <td>0.209877</td>\n",
       "      <td>0.250000</td>\n",
       "      <td>0.0</td>\n",
       "      <td>0.003675</td>\n",
       "      <td>0.0</td>\n",
       "      <td>...</td>\n",
       "      <td>0.0</td>\n",
       "      <td>0.00</td>\n",
       "      <td>0.044729</td>\n",
       "      <td>0.001223</td>\n",
       "      <td>0.0</td>\n",
       "      <td>0.055556</td>\n",
       "      <td>0.671429</td>\n",
       "      <td>0.681159</td>\n",
       "      <td>0.0</td>\n",
       "      <td>0.0</td>\n",
       "    </tr>\n",
       "    <tr>\n",
       "      <th>69998</th>\n",
       "      <td>0.052083</td>\n",
       "      <td>0.021531</td>\n",
       "      <td>0.034667</td>\n",
       "      <td>0.045317</td>\n",
       "      <td>0.0</td>\n",
       "      <td>0.211934</td>\n",
       "      <td>0.266667</td>\n",
       "      <td>0.0</td>\n",
       "      <td>0.007351</td>\n",
       "      <td>0.0</td>\n",
       "      <td>...</td>\n",
       "      <td>0.0</td>\n",
       "      <td>0.00</td>\n",
       "      <td>0.050604</td>\n",
       "      <td>0.001223</td>\n",
       "      <td>0.0</td>\n",
       "      <td>0.055556</td>\n",
       "      <td>0.685714</td>\n",
       "      <td>0.681159</td>\n",
       "      <td>0.0</td>\n",
       "      <td>0.0</td>\n",
       "    </tr>\n",
       "    <tr>\n",
       "      <th>69999</th>\n",
       "      <td>0.052083</td>\n",
       "      <td>0.039474</td>\n",
       "      <td>0.038667</td>\n",
       "      <td>0.045317</td>\n",
       "      <td>0.0</td>\n",
       "      <td>0.211934</td>\n",
       "      <td>0.266667</td>\n",
       "      <td>0.0</td>\n",
       "      <td>0.005089</td>\n",
       "      <td>0.0</td>\n",
       "      <td>...</td>\n",
       "      <td>0.0</td>\n",
       "      <td>0.00</td>\n",
       "      <td>0.044377</td>\n",
       "      <td>0.001223</td>\n",
       "      <td>0.0</td>\n",
       "      <td>0.027778</td>\n",
       "      <td>0.671429</td>\n",
       "      <td>0.681159</td>\n",
       "      <td>0.0</td>\n",
       "      <td>0.0</td>\n",
       "    </tr>\n",
       "    <tr>\n",
       "      <th>70000</th>\n",
       "      <td>0.062500</td>\n",
       "      <td>0.061005</td>\n",
       "      <td>0.045333</td>\n",
       "      <td>0.046828</td>\n",
       "      <td>0.0</td>\n",
       "      <td>0.209877</td>\n",
       "      <td>0.250000</td>\n",
       "      <td>0.0</td>\n",
       "      <td>0.005655</td>\n",
       "      <td>0.0</td>\n",
       "      <td>...</td>\n",
       "      <td>0.0</td>\n",
       "      <td>0.00</td>\n",
       "      <td>0.040765</td>\n",
       "      <td>0.001101</td>\n",
       "      <td>0.0</td>\n",
       "      <td>0.041667</td>\n",
       "      <td>0.685714</td>\n",
       "      <td>0.681159</td>\n",
       "      <td>0.0</td>\n",
       "      <td>0.0</td>\n",
       "    </tr>\n",
       "  </tbody>\n",
       "</table>\n",
       "<p>70001 rows × 38 columns</p>\n",
       "</div>"
      ],
      "text/plain": [
       "              0         1         2         3    4         5         6    7  \\\n",
       "0      0.000000  0.000340  0.000432  0.000000  0.0  0.694290  0.038316  0.0   \n",
       "1      0.000000  0.000510  0.000576  0.000000  0.0  0.694702  0.038856  0.0   \n",
       "2      0.000000  0.000510  0.000576  0.000000  0.0  0.694908  0.038856  0.0   \n",
       "3      0.000000  0.000170  0.000432  0.000000  0.0  0.695114  0.038856  0.0   \n",
       "4      0.000000  0.000935  0.000720  0.000336  0.0  0.695733  0.039935  0.0   \n",
       "...         ...       ...       ...       ...  ...       ...       ...  ...   \n",
       "69996  0.062500  0.047847  0.041333  0.048338  0.0  0.209877  0.266667  0.0   \n",
       "69997  0.052083  0.031100  0.036000  0.046828  0.0  0.209877  0.250000  0.0   \n",
       "69998  0.052083  0.021531  0.034667  0.045317  0.0  0.211934  0.266667  0.0   \n",
       "69999  0.052083  0.039474  0.038667  0.045317  0.0  0.211934  0.266667  0.0   \n",
       "70000  0.062500  0.061005  0.045333  0.046828  0.0  0.209877  0.250000  0.0   \n",
       "\n",
       "              8    9  ...   28    29        30        31   32        33  \\\n",
       "0      0.000000  0.0  ...  0.0  0.50  0.036442  0.000000  0.0  0.023256   \n",
       "1      0.427536  0.0  ...  0.0  0.25  0.025862  0.000000  0.0  0.028623   \n",
       "2      0.000000  0.0  ...  0.0  0.25  0.307994  0.013699  0.0  0.026834   \n",
       "3      0.007246  0.0  ...  0.0  0.25  0.026254  0.000000  0.0  0.030411   \n",
       "4      0.000000  0.0  ...  0.0  0.25  0.014107  0.000000  0.0  0.028623   \n",
       "...         ...  ...  ...  ...   ...       ...       ...  ...       ...   \n",
       "69996  0.005937  0.0  ...  0.0  0.00  0.035395  0.001223  0.0  0.027778   \n",
       "69997  0.003675  0.0  ...  0.0  0.00  0.044729  0.001223  0.0  0.055556   \n",
       "69998  0.007351  0.0  ...  0.0  0.00  0.050604  0.001223  0.0  0.055556   \n",
       "69999  0.005089  0.0  ...  0.0  0.00  0.044377  0.001223  0.0  0.027778   \n",
       "70000  0.005655  0.0  ...  0.0  0.00  0.040765  0.001101  0.0  0.041667   \n",
       "\n",
       "             34        35   36   37  \n",
       "0      0.055147  0.055147  0.0  0.0  \n",
       "1      0.040441  0.040441  0.0  0.0  \n",
       "2      0.183824  0.180147  0.0  0.0  \n",
       "3      0.047794  0.047794  0.0  0.0  \n",
       "4      0.033088  0.029412  0.0  0.0  \n",
       "...         ...       ...  ...  ...  \n",
       "69996  0.671429  0.681159  0.0  0.0  \n",
       "69997  0.671429  0.681159  0.0  0.0  \n",
       "69998  0.685714  0.681159  0.0  0.0  \n",
       "69999  0.671429  0.681159  0.0  0.0  \n",
       "70000  0.685714  0.681159  0.0  0.0  \n",
       "\n",
       "[70001 rows x 38 columns]"
      ]
     },
     "execution_count": 27,
     "metadata": {},
     "output_type": "execute_result"
    }
   ],
   "source": [
    "dfx"
   ]
  },
  {
   "cell_type": "code",
   "execution_count": 28,
   "id": "79b46e5b-dc47-4f41-93c9-d9028f18cff3",
   "metadata": {},
   "outputs": [
    {
     "data": {
      "text/html": [
       "<div>\n",
       "<style scoped>\n",
       "    .dataframe tbody tr th:only-of-type {\n",
       "        vertical-align: middle;\n",
       "    }\n",
       "\n",
       "    .dataframe tbody tr th {\n",
       "        vertical-align: top;\n",
       "    }\n",
       "\n",
       "    .dataframe thead th {\n",
       "        text-align: right;\n",
       "    }\n",
       "</style>\n",
       "<table border=\"1\" class=\"dataframe\">\n",
       "  <thead>\n",
       "    <tr style=\"text-align: right;\">\n",
       "      <th></th>\n",
       "      <th>0</th>\n",
       "    </tr>\n",
       "  </thead>\n",
       "  <tbody>\n",
       "    <tr>\n",
       "      <th>0</th>\n",
       "      <td>0</td>\n",
       "    </tr>\n",
       "    <tr>\n",
       "      <th>1</th>\n",
       "      <td>0</td>\n",
       "    </tr>\n",
       "    <tr>\n",
       "      <th>2</th>\n",
       "      <td>0</td>\n",
       "    </tr>\n",
       "    <tr>\n",
       "      <th>3</th>\n",
       "      <td>0</td>\n",
       "    </tr>\n",
       "    <tr>\n",
       "      <th>4</th>\n",
       "      <td>0</td>\n",
       "    </tr>\n",
       "  </tbody>\n",
       "</table>\n",
       "</div>"
      ],
      "text/plain": [
       "   0\n",
       "0  0\n",
       "1  0\n",
       "2  0\n",
       "3  0\n",
       "4  0"
      ]
     },
     "execution_count": 28,
     "metadata": {},
     "output_type": "execute_result"
    }
   ],
   "source": [
    "dfy.head()"
   ]
  },
  {
   "cell_type": "code",
   "execution_count": 29,
   "id": "12045c14-c0d8-46ef-91a4-1fe44b3f1c88",
   "metadata": {},
   "outputs": [],
   "source": [
    "# dfx.reset_index(inplace=True)\n",
    "# dfy.reset_index(inplace=True)"
   ]
  },
  {
   "cell_type": "code",
   "execution_count": 35,
   "id": "7259f3a1-65b0-46ec-a80a-69b79d2ef1c6",
   "metadata": {},
   "outputs": [],
   "source": [
    "mean0 = []\n",
    "mean1 = []\n",
    "for x in range(0,38):\n",
    "    mean0.append(np.mean(df[str(x)][dfy[\"0\"] == 0]))\n",
    "    mean1.append(np.mean(df[str(x)][dfy[\"0\"] == 1]))"
   ]
  },
  {
   "cell_type": "code",
   "execution_count": 38,
   "id": "4ec03de5-5541-4a5a-8fd6-c06dad486fa0",
   "metadata": {},
   "outputs": [
    {
     "data": {
      "text/plain": [
       "[0.12162594477148667,\n",
       " 0.01931234773168606,\n",
       " 0.026964694576535532,\n",
       " 0.02965600215593034,\n",
       " 0.33439094128530145,\n",
       " 0.4413029431812969,\n",
       " 0.34661649216372836,\n",
       " 0.0,\n",
       " 0.009901542560511309,\n",
       " 0.00034304603905139066,\n",
       " 0.05276891960367579,\n",
       " 0.05917533800706411,\n",
       " 0.025059862555618418,\n",
       " 0.07765224808489167,\n",
       " 0.046088333297656,\n",
       " 0.07576949725539364,\n",
       " 1.7704316447760739e-06,\n",
       " 3.4403143682818304e-05,\n",
       " 0.11338918553233132,\n",
       " 0.10779175732786962,\n",
       " 0.1415272279781655,\n",
       " 0.1580564497484748,\n",
       " 0.14328201327196835,\n",
       " 0.27593877139493284,\n",
       " 0.15738043349490072,\n",
       " 0.2716702958517454,\n",
       " 0.0,\n",
       " 0.1520685523310041,\n",
       " 0.0,\n",
       " 0.16545772864329292,\n",
       " 0.18517384003302703,\n",
       " 0.10665577761807923,\n",
       " 0.018579431017874348,\n",
       " 0.05218878622651031,\n",
       " 0.26326468775706796,\n",
       " 0.222036635861837,\n",
       " 0.0,\n",
       " 0.0]"
      ]
     },
     "execution_count": 38,
     "metadata": {},
     "output_type": "execute_result"
    }
   ],
   "source": [
    "mean0"
   ]
  },
  {
   "cell_type": "code",
   "execution_count": 39,
   "id": "0a5b8e1d-81da-4cbb-b700-c9ae7d288f26",
   "metadata": {},
   "outputs": [
    {
     "data": {
      "text/plain": [
       "[0.1772451891304348,\n",
       " 0.1123132386956522,\n",
       " 0.1403467195652174,\n",
       " 0.1484477786956522,\n",
       " 0.14669826869565217,\n",
       " 0.7215840519565218,\n",
       " 0.19029364500000004,\n",
       " 0.0,\n",
       " 0.03005407413043478,\n",
       " 0.0065247043478260875,\n",
       " 0.10823477717391303,\n",
       " 0.09631494478260871,\n",
       " 0.03302391695652174,\n",
       " 0.11993166434782611,\n",
       " 0.06754486608695652,\n",
       " 0.1915251502173913,\n",
       " 0.0021922202173913045,\n",
       " 0.0006406502173913044,\n",
       " 0.10124987521739132,\n",
       " 0.09817058152173912,\n",
       " 0.15742827413043478,\n",
       " 0.17272902934782608,\n",
       " 0.20448065239130434,\n",
       " 0.1430395552173913,\n",
       " 0.2785145406521739,\n",
       " 0.14023178065217393,\n",
       " 0.0,\n",
       " 0.19746508847826086,\n",
       " 0.00011419391304347826,\n",
       " 0.22011934978260872,\n",
       " 0.27757049500000003,\n",
       " 0.07982983565217391,\n",
       " 0.020531424565217393,\n",
       " 0.043214745217391305,\n",
       " 0.3610619758695652,\n",
       " 0.33799778543478265,\n",
       " 0.0,\n",
       " 0.0]"
      ]
     },
     "execution_count": 39,
     "metadata": {},
     "output_type": "execute_result"
    }
   ],
   "source": [
    "mean1"
   ]
  },
  {
   "cell_type": "code",
   "execution_count": 43,
   "id": "9e8238b1-de75-4a42-be69-3091651d3afe",
   "metadata": {},
   "outputs": [
    {
     "name": "stdout",
     "output_type": "stream",
     "text": [
      "[0.05561924435894813, 0.09300089096396613, 0.11338202498868188, 0.11879177653972187, -0.18769267258964928, 0.28028110877522483, -0.15632284716372832, 0.0, 0.02015253156992347, 0.006181658308774696, 0.05546585757023724, 0.037139606775544606, 0.00796405440090332, 0.04227941626293444, 0.02145653278930052, 0.11575565296199766, 0.0021904497857465283, 0.0006062470737084861, -0.012139310314940005, -0.009621175806130505, 0.015901046152269283, 0.014672579599351282, 0.061198639119335985, -0.13289921617754152, 0.12113410715727319, -0.13143851519957148, 0.0, 0.04539653614725675, 0.00011419391304347826, 0.0546616211393158, 0.092396654966973, -0.02682594196590532, 0.001951993547343045, -0.008974041009119006, 0.09779728811249722, 0.11596114957294565, 0.0, 0.0]\n"
     ]
    }
   ],
   "source": [
    "meansub = []\n",
    "for x, y in zip(mean1, mean0):\n",
    "    meansub.append(x - y)\n",
    "print(meansub)"
   ]
  },
  {
   "cell_type": "code",
   "execution_count": 122,
   "id": "78b8618d-7c8d-4da5-88ea-622d4008c325",
   "metadata": {},
   "outputs": [],
   "source": [
    "zero_columns = dfx.columns[dfx.eq(0).all()]"
   ]
  },
  {
   "cell_type": "code",
   "execution_count": 123,
   "id": "43bad808-b988-483a-a023-c8806eea592a",
   "metadata": {},
   "outputs": [
    {
     "data": {
      "text/plain": [
       "Index(['7', '26', '36', '37'], dtype='object')"
      ]
     },
     "execution_count": 123,
     "metadata": {},
     "output_type": "execute_result"
    }
   ],
   "source": [
    "zero_columns"
   ]
  },
  {
   "cell_type": "code",
   "execution_count": 53,
   "id": "d4938501-cc70-43d0-9d6f-9430452fb4a5",
   "metadata": {},
   "outputs": [
    {
     "data": {
      "text/plain": [
       "<BarContainer object of 38 artists>"
      ]
     },
     "execution_count": 53,
     "metadata": {},
     "output_type": "execute_result"
    },
    {
     "data": {
      "image/png": "[encoded data removed]",
      "text/plain": [
       "<Figure size 640x480 with 1 Axes>"
      ]
     },
     "metadata": {},
     "output_type": "display_data"
    }
   ],
   "source": [
    "x = range(len(mean0))\n",
    "plt.bar(x, mean0, color='b', label='Category 0')\n",
    "plt.bar(x, mean1, color='r', label='Category 1', width=0.5)"
   ]
  },
  {
   "cell_type": "code",
   "execution_count": 54,
   "id": "f1f3e7a0-f8d9-4543-87a9-78b3864800bc",
   "metadata": {},
   "outputs": [],
   "source": [
    "median0 = []\n",
    "median1 = []\n",
    "for x in range(0,38):\n",
    "    median0.append(np.median(df[str(x)][dfy[\"0\"] == 0]))\n",
    "    median1.append(np.median(df[str(x)][dfy[\"0\"] == 1]))"
   ]
  },
  {
   "cell_type": "code",
   "execution_count": 55,
   "id": "f40682e5-a7fe-4187-ae8e-9d1c89c87e45",
   "metadata": {},
   "outputs": [
    {
     "data": {
      "text/plain": [
       "<BarContainer object of 38 artists>"
      ]
     },
     "execution_count": 55,
     "metadata": {},
     "output_type": "execute_result"
    },
    {
     "data": {
      "image/png": "[encoded data removed]",
      "text/plain": [
       "<Figure size 640x480 with 1 Axes>"
      ]
     },
     "metadata": {},
     "output_type": "display_data"
    }
   ],
   "source": [
    "x = range(len(median0))\n",
    "plt.bar(x, median0, color='b', label='Category 0')\n",
    "plt.bar(x, median1, color='r', label='Category 1', width=0.5)"
   ]
  },
  {
   "cell_type": "code",
   "execution_count": 56,
   "id": "59e7f752-99f1-4b27-9230-c4f615bab7a5",
   "metadata": {},
   "outputs": [],
   "source": [
    "std0 = []\n",
    "std1 = []\n",
    "for x in range(0,38):\n",
    "    std0.append(np.std(df[str(x)][dfy[\"0\"] == 0]))\n",
    "    std1.append(np.std(df[str(x)][dfy[\"0\"] == 1]))"
   ]
  },
  {
   "cell_type": "code",
   "execution_count": 74,
   "id": "30d5667f-77ed-4c8e-b22f-e9af410605ca",
   "metadata": {},
   "outputs": [
    {
     "data": {
      "text/plain": [
       "<BarContainer object of 38 artists>"
      ]
     },
     "execution_count": 74,
     "metadata": {},
     "output_type": "execute_result"
    },
    {
     "data": {
      "image/png": "[encoded data removed]",
      "text/plain": [
       "<Figure size 640x480 with 1 Axes>"
      ]
     },
     "metadata": {},
     "output_type": "display_data"
    }
   ],
   "source": [
    "x= range(len(std0))\n",
    "plt.bar(x, std0, color='b', label='Category 0')\n",
    "plt.bar(x, std1, color='r', label='Category 1', width=0.5)"
   ]
  },
  {
   "cell_type": "code",
   "execution_count": 62,
   "id": "f76c748a-0b8a-4e18-bb89-d1a601bc747b",
   "metadata": {},
   "outputs": [
    {
     "name": "stdout",
     "output_type": "stream",
     "text": [
      "3e-05 0.0006406502\n"
     ]
    }
   ],
   "source": [
    "print(round(mean0[17],5),round(mean1[17], 10))"
   ]
  },
  {
   "cell_type": "code",
   "execution_count": 61,
   "id": "8bc6d64f-59ee-4324-8619-ef4fd4922d80",
   "metadata": {},
   "outputs": [
    {
     "name": "stdout",
     "output_type": "stream",
     "text": [
      "0.0000344031\n"
     ]
    }
   ],
   "source": [
    "print(\"{:.10f}\".format(mean0[17]))"
   ]
  },
  {
   "cell_type": "code",
   "execution_count": 77,
   "id": "e4c67850-ee82-4e4e-a77e-69f52f39aac7",
   "metadata": {},
   "outputs": [],
   "source": [
    "def calculate_per_change(old_value, new_value):\n",
    "    percentage_change = ((new_value - old_value) / old_value) * 100\n",
    "    return percentage_change"
   ]
  },
  {
   "cell_type": "code",
   "execution_count": 102,
   "id": "3d0955eb-0722-4af1-87aa-246aa976a85b",
   "metadata": {},
   "outputs": [
    {
     "name": "stderr",
     "output_type": "stream",
     "text": [
      "C:\\Users\\Sharda Prasad Maurya.LAPTOP-4MVRVONI\\AppData\\Local\\Temp\\ipykernel_7260\\3838705196.py:2: RuntimeWarning: invalid value encountered in double_scalars\n",
      "  percentage_change = ((new_value - old_value) / old_value) * 100\n",
      "C:\\Users\\Sharda Prasad Maurya.LAPTOP-4MVRVONI\\AppData\\Local\\Temp\\ipykernel_7260\\3838705196.py:2: RuntimeWarning: divide by zero encountered in double_scalars\n",
      "  percentage_change = ((new_value - old_value) / old_value) * 100\n"
     ]
    }
   ],
   "source": [
    "per_mean01 = []\n",
    "for i in range(0,38):\n",
    "    per_mean01.append(calculate_per_change(mean0[i],mean1[i]))"
   ]
  },
  {
   "cell_type": "code",
   "execution_count": 101,
   "id": "492129b9-d40a-4933-97dc-b2af463e3798",
   "metadata": {},
   "outputs": [
    {
     "name": "stderr",
     "output_type": "stream",
     "text": [
      "C:\\Users\\Sharda Prasad Maurya.LAPTOP-4MVRVONI\\AppData\\Local\\Temp\\ipykernel_7260\\3838705196.py:2: RuntimeWarning: invalid value encountered in double_scalars\n",
      "  percentage_change = ((new_value - old_value) / old_value) * 100\n"
     ]
    }
   ],
   "source": [
    "per_mean10 = []\n",
    "for i in range(0,38):\n",
    "    per_mean10.append(calculate_per_change(mean1[i],mean0[i]))"
   ]
  },
  {
   "cell_type": "code",
   "execution_count": 103,
   "id": "5bef3ff0-01e7-40e4-b795-325c87bbf4ed",
   "metadata": {},
   "outputs": [
    {
     "name": "stderr",
     "output_type": "stream",
     "text": [
      "C:\\Users\\Sharda Prasad Maurya.LAPTOP-4MVRVONI\\AppData\\Local\\Temp\\ipykernel_7260\\3838705196.py:2: RuntimeWarning: invalid value encountered in double_scalars\n",
      "  percentage_change = ((new_value - old_value) / old_value) * 100\n",
      "C:\\Users\\Sharda Prasad Maurya.LAPTOP-4MVRVONI\\AppData\\Local\\Temp\\ipykernel_7260\\3838705196.py:2: RuntimeWarning: divide by zero encountered in double_scalars\n",
      "  percentage_change = ((new_value - old_value) / old_value) * 100\n"
     ]
    }
   ],
   "source": [
    "per_std01 = []\n",
    "for i in range(0,38):\n",
    "    per_std01.append(calculate_per_change(std0[i],std1[i]))"
   ]
  },
  {
   "cell_type": "code",
   "execution_count": 104,
   "id": "4b26b94d-15c8-4685-8b06-11c2419c4326",
   "metadata": {},
   "outputs": [
    {
     "name": "stderr",
     "output_type": "stream",
     "text": [
      "C:\\Users\\Sharda Prasad Maurya.LAPTOP-4MVRVONI\\AppData\\Local\\Temp\\ipykernel_7260\\3838705196.py:2: RuntimeWarning: invalid value encountered in double_scalars\n",
      "  percentage_change = ((new_value - old_value) / old_value) * 100\n"
     ]
    }
   ],
   "source": [
    "per_std10 = []\n",
    "for i in range(0,38):\n",
    "    per_std10.append(calculate_per_change(std1[i],std0[i]))"
   ]
  },
  {
   "cell_type": "code",
   "execution_count": 105,
   "id": "b0a5b6d4-4160-4a64-822f-608f1258abf0",
   "metadata": {},
   "outputs": [
    {
     "name": "stderr",
     "output_type": "stream",
     "text": [
      "C:\\Users\\Sharda Prasad Maurya.LAPTOP-4MVRVONI\\AppData\\Local\\Temp\\ipykernel_7260\\3838705196.py:2: RuntimeWarning: invalid value encountered in double_scalars\n",
      "  percentage_change = ((new_value - old_value) / old_value) * 100\n"
     ]
    }
   ],
   "source": [
    "per_median01 = []\n",
    "for i in range(0,38):\n",
    "    per_median01.append(calculate_per_change(median0[i],median1[i]))"
   ]
  },
  {
   "cell_type": "code",
   "execution_count": 106,
   "id": "f70edf56-edf7-4394-a3e2-99a198774c84",
   "metadata": {},
   "outputs": [
    {
     "name": "stderr",
     "output_type": "stream",
     "text": [
      "C:\\Users\\Sharda Prasad Maurya.LAPTOP-4MVRVONI\\AppData\\Local\\Temp\\ipykernel_7260\\3838705196.py:2: RuntimeWarning: invalid value encountered in double_scalars\n",
      "  percentage_change = ((new_value - old_value) / old_value) * 100\n"
     ]
    }
   ],
   "source": [
    "per_median10 = []\n",
    "for i in range(0,38):\n",
    "    per_median10.append(calculate_per_change(median1[i],median0[i]))"
   ]
  },
  {
   "cell_type": "code",
   "execution_count": 112,
   "id": "5f8212cb-47e5-4d14-b5e3-60928c36685a",
   "metadata": {},
   "outputs": [
    {
     "data": {
      "text/plain": [
       "[1, 2, 3, 8, 9, 10, 15, 16, 17, 28]"
      ]
     },
     "execution_count": 112,
     "metadata": {},
     "output_type": "execute_result"
    }
   ],
   "source": [
    "per_mean01_features = []\n",
    "for i in range(0,38):\n",
    "    if (per_mean01[i]>=100):\n",
    "        x= per_mean01[i]\n",
    "        per_mean01_features.append(i)\n",
    "\n",
    "per_mean01_features"
   ]
  },
  {
   "cell_type": "code",
   "execution_count": 113,
   "id": "390bedb8-e28c-4e0d-bdcc-2946ad9dc16e",
   "metadata": {},
   "outputs": [
    {
     "data": {
      "text/plain": [
       "[0, 1, 2, 3, 8, 9, 10, 11, 12, 15, 16, 17, 28]"
      ]
     },
     "execution_count": 113,
     "metadata": {},
     "output_type": "execute_result"
    }
   ],
   "source": [
    "per_std01_features = []\n",
    "for i in range(0,38):\n",
    "    if (per_std01[i]>=100):\n",
    "        x= per_std01[i]\n",
    "        per_std01_features.append(i)\n",
    "\n",
    "per_std01_features"
   ]
  },
  {
   "cell_type": "code",
   "execution_count": 114,
   "id": "41ef4d64-423c-45c4-ac6b-d6c6df5b2bf9",
   "metadata": {},
   "outputs": [
    {
     "data": {
      "text/plain": [
       "[15, 31, 35]"
      ]
     },
     "execution_count": 114,
     "metadata": {},
     "output_type": "execute_result"
    }
   ],
   "source": [
    "per_median01_features = []\n",
    "for i in range(0,38):\n",
    "    if (per_median01[i]>=100):\n",
    "        x= per_median01[i]\n",
    "        per_median01_features.append(i)\n",
    "\n",
    "per_median01_features"
   ]
  },
  {
   "cell_type": "code",
   "execution_count": 115,
   "id": "67c0e670-c599-4ddf-91bb-f40e2d5a339e",
   "metadata": {},
   "outputs": [
    {
     "data": {
      "text/plain": [
       "[4]"
      ]
     },
     "execution_count": 115,
     "metadata": {},
     "output_type": "execute_result"
    }
   ],
   "source": [
    "per_mean10_features = []\n",
    "for i in range(0,38):\n",
    "    if (per_mean10[i]>=100):\n",
    "        x= per_mean10[i]\n",
    "        per_mean10_features.append(i)\n",
    "\n",
    "per_mean10_features"
   ]
  },
  {
   "cell_type": "code",
   "execution_count": 116,
   "id": "8d298aa1-b127-4b22-94ca-8f45bd60edc3",
   "metadata": {},
   "outputs": [
    {
     "data": {
      "text/plain": [
       "[]"
      ]
     },
     "execution_count": 116,
     "metadata": {},
     "output_type": "execute_result"
    }
   ],
   "source": [
    "per_std10_features = []\n",
    "for i in range(0,38):\n",
    "    if (per_std10[i]>=100):\n",
    "        x= per_std10[i]\n",
    "        per_std10_features.append(i)\n",
    "\n",
    "per_std10_features"
   ]
  },
  {
   "cell_type": "code",
   "execution_count": 117,
   "id": "8c7aaa50-718a-4120-9c88-34151d0849b9",
   "metadata": {},
   "outputs": [
    {
     "data": {
      "text/plain": [
       "[0, 1, 6, 23, 25]"
      ]
     },
     "execution_count": 117,
     "metadata": {},
     "output_type": "execute_result"
    }
   ],
   "source": [
    "per_median10_features = []\n",
    "for i in range(0,38):\n",
    "    if (per_median10[i]>=100):\n",
    "        x= per_median10[i]\n",
    "        per_median10_features.append(i)\n",
    "\n",
    "per_median10_features"
   ]
  },
  {
   "cell_type": "code",
   "execution_count": 125,
   "id": "a3320dab-f081-4b8c-81e1-c667ccf8fccb",
   "metadata": {},
   "outputs": [
    {
     "name": "stdout",
     "output_type": "stream",
     "text": [
      "Variable: 1, Point-Biserial Correlation: 0.31834041985776995\n",
      "Variable: 2, Point-Biserial Correlation: 0.3169859411747342\n",
      "Variable: 3, Point-Biserial Correlation: 0.3147391518043692\n",
      "Variable: 7, Point-Biserial Correlation: nan\n",
      "Variable: 15, Point-Biserial Correlation: 0.23051732079173004\n",
      "Variable: 5, Point-Biserial Correlation: 0.20013164967885477\n",
      "Variable: 11, Point-Biserial Correlation: 0.1951456246060069\n",
      "Variable: 24, Point-Biserial Correlation: 0.18507326781626543\n",
      "Variable: 26, Point-Biserial Correlation: nan\n",
      "Variable: 29, Point-Biserial Correlation: 0.17920029129887582\n",
      "Variable: 10, Point-Biserial Correlation: 0.1395126109416999\n",
      "Variable: 30, Point-Biserial Correlation: 0.13433746567123223\n",
      "Variable: 35, Point-Biserial Correlation: 0.12441965368755481\n",
      "Variable: 6, Point-Biserial Correlation: -0.12394168894191214\n",
      "Variable: 13, Point-Biserial Correlation: 0.12025974028611666\n",
      "Variable: 23, Point-Biserial Correlation: -0.11479823932881854\n",
      "Variable: 34, Point-Biserial Correlation: 0.1133099724051018\n",
      "Variable: 25, Point-Biserial Correlation: -0.11246621402924271\n",
      "Variable: 4, Point-Biserial Correlation: -0.10182440559103098\n",
      "Variable: 9, Point-Biserial Correlation: 0.10077488244243683\n",
      "Variable: 0, Point-Biserial Correlation: 0.09278556615191327\n",
      "Variable: 22, Point-Biserial Correlation: 0.09199667135590034\n",
      "Variable: 8, Point-Biserial Correlation: 0.08891765929532151\n",
      "Variable: 27, Point-Biserial Correlation: 0.06888464415441926\n",
      "Variable: 14, Point-Biserial Correlation: 0.06561694250026424\n",
      "Variable: 16, Point-Biserial Correlation: 0.05822362179630584\n",
      "Variable: 33, Point-Biserial Correlation: -0.04689195747907941\n",
      "Variable: 12, Point-Biserial Correlation: 0.042752002500985764\n",
      "Variable: 31, Point-Biserial Correlation: -0.035413783485903336\n",
      "Variable: 17, Point-Biserial Correlation: 0.02797353768838905\n",
      "Variable: 20, Point-Biserial Correlation: 0.024250790132930515\n",
      "Variable: 21, Point-Biserial Correlation: 0.023153897243095696\n",
      "Variable: 19, Point-Biserial Correlation: -0.01918035869486085\n",
      "Variable: 18, Point-Biserial Correlation: -0.01810848260967657\n",
      "Variable: 28, Point-Biserial Correlation: 0.016265345616957198\n",
      "Variable: 32, Point-Biserial Correlation: 0.00884795023015241\n",
      "Variable: 36, Point-Biserial Correlation: nan\n",
      "Variable: 37, Point-Biserial Correlation: nan\n"
     ]
    }
   ],
   "source": [
    "from scipy.stats import pointbiserialr\n",
    "\n",
    "correlation_coefficients = {}\n",
    "\n",
    "for column in dfx.columns:\n",
    "    # Calculate the point-biserial correlation between the input variable and the anomaly indicator\n",
    "    correlation, p_value = pointbiserialr(dfx[column], dfy['0'])\n",
    "    \n",
    "    correlation_coefficients[column] = correlation\n",
    "\n",
    "sorted_correlation_coefficients = sorted(correlation_coefficients.items(), key=lambda x: abs(x[1]), reverse=True)\n",
    "\n",
    "for variable, coefficient in sorted_correlation_coefficients:\n",
    "    print(f\"Variable: {variable}, Point-Biserial Correlation: {coefficient}\")"
   ]
  },
  {
   "cell_type": "code",
   "execution_count": null,
   "id": "a6c25cc2-08e0-4984-a712-3fbf1df79418",
   "metadata": {},
   "outputs": [],
   "source": [
    "### variables which are the root cause for the anomaly\n",
    "\n",
    "on performing EDA on the data set:  \n",
    "the variable which are the root cause of the anomaly are: **1, 2, 3, 15, 11, 5, 24, 11, 29**  \n",
    "some other also are there: **30, 35, 6, 23, 18, 34, 9, 8, 16, 17, 18**"
   ]
  }
 ],
 "metadata": {
  "kernelspec": {
   "display_name": "Python 3 (ipykernel)",
   "language": "python",
   "name": "python3"
  },
  "language_info": {
   "codemirror_mode": {
    "name": "ipython",
    "version": 3
   },
   "file_extension": ".py",
   "mimetype": "text/x-python",
   "name": "python",
   "nbconvert_exporter": "python",
   "pygments_lexer": "ipython3",
   "version": "3.10.7"
  }
 },
 "nbformat": 4,
 "nbformat_minor": 5
}
